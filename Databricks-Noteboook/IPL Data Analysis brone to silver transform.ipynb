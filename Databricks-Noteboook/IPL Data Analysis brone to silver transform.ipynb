{
 "cells": [
  {
   "cell_type": "markdown",
   "metadata": {
    "application/vnd.databricks.v1+cell": {
     "cellMetadata": {},
     "inputWidgets": {},
     "nuid": "720197cd-9c8a-4548-b1ab-874058163d99",
     "showTitle": false,
     "tableResultSettingsMap": {},
     "title": ""
    }
   },
   "source": [
    "connect to adls using service principle (app registration)"
   ]
  },
  {
   "cell_type": "code",
   "execution_count": 0,
   "metadata": {
    "application/vnd.databricks.v1+cell": {
     "cellMetadata": {
      "byteLimit": 2048000,
      "rowLimit": 10000
     },
     "inputWidgets": {},
     "nuid": "82d29acf-2790-41e0-8558-d4dca7c8d321",
     "showTitle": false,
     "tableResultSettingsMap": {},
     "title": ""
    }
   },
   "outputs": [],
   "source": [
    "#setup a Azure app \"databricks_adls_connection\" using App Registration who's credential will be used to access ADLS from Azure Databricks \n",
    "# when we create an app a secret will be created and this will be stored in Azure Key Vault \"dbadlsconn\"(vault name) along with client_id, tenant_id of the registered app in valuts objects/secrets section for secure access\n",
    "# You can store all the access related secret's in Azure Key Vault\n",
    "#Now to access the secrets from the valut we need to create Azure Key Vault-backed secret scope in Azure Databricks see link below for guidance, \n",
    "#https://learn.microsoft.com/en-us/azure/databricks/security/secrets/\n",
    "#In my case I have created a scope \"key-vault-secret\" referting to the Azure key vault DNS and Resource ID so we can access the secrets usind dbutils.secrets.get(scope=\"<scope_name>\", key=\"<key_name>\")\n",
    "\n",
    "#Here <scope_name> is the name of the scope created Azure Databricks https://<databricks-instance>#secrets/createScope in my case it is key-vault-secret\n",
    "#AND <key_name> is the name of the secret created in Azure Key Vault, in my case I have created a secret \"sp-client-id\" and \"sp-secret-key\" and \"sp-tenent-id\"\n",
    "\n",
    "\n",
    "#Lastly Access: \n",
    "#  Grant Azure Databricks to access the Azure Key Vault, this can be done by giving \"key valut secret users\" IAM role to the \n",
    "#  Azure Databricks user.\n",
    "\n",
    "#Grant registered app \"databricks_adls_connection\" to access the container in storage account, granted \"Storage Blob Data Contributor\" IAM role to the \"databricks_adls_connection\" \n",
    "\n",
    "#Below code establishes connection from Azure Databricks to ADLS container using the Azure Key Vault-backed secret's\n",
    " \n",
    "client_id = dbutils.secrets.get(scope=\"key-vault-secret\", key=\"sp-client-id\")\n",
    "tenant_id = dbutils.secrets.get(scope=\"key-vault-secret\", key=\"sp-tenent-id\")\n",
    "client_secret_key = dbutils.secrets.get(scope=\"key-vault-secret\", key=\"sp-secret-key\")\n",
    "\n",
    "spark.conf.set(\"fs.azure.account.auth.type.iplsandbox.dfs.core.windows.net\", \"OAuth\")\n",
    "spark.conf.set(\"fs.azure.account.oauth.provider.type.iplsandbox.dfs.core.windows.net\", \"org.apache.hadoop.fs.azurebfs.oauth2.ClientCredsTokenProvider\")\n",
    "spark.conf.set(\"fs.azure.account.oauth2.client.id.iplsandbox.dfs.core.windows.net\", f\"{client_id}\")\n",
    "spark.conf.set(\"fs.azure.account.oauth2.client.secret.iplsandbox.dfs.core.windows.net\", f\"{client_secret_key}\")\n",
    "spark.conf.set(\"fs.azure.account.oauth2.client.endpoint.iplsandbox.dfs.core.windows.net\", f\"https://login.microsoftonline.com/{tenant_id}/oauth2/token\")"
   ]
  },
  {
   "cell_type": "markdown",
   "metadata": {
    "application/vnd.databricks.v1+cell": {
     "cellMetadata": {},
     "inputWidgets": {},
     "nuid": "0ac5c6dc-8df0-42d8-99b5-b31615df4bee",
     "showTitle": false,
     "tableResultSettingsMap": {},
     "title": ""
    }
   },
   "source": [
    "Mount adls bronze zone container to databricks workspace"
   ]
  },
  {
   "cell_type": "code",
   "execution_count": 0,
   "metadata": {
    "application/vnd.databricks.v1+cell": {
     "cellMetadata": {
      "byteLimit": 2048000,
      "rowLimit": 10000
     },
     "inputWidgets": {},
     "nuid": "0ac00ab2-55a3-4f42-b832-d404c4e31416",
     "showTitle": false,
     "tableResultSettingsMap": {},
     "title": ""
    }
   },
   "outputs": [
    {
     "output_type": "stream",
     "name": "stdout",
     "output_type": "stream",
     "text": [
      "abfss://ipldata@iplsandbox.dfs.core.windows.net/ already mounted to /mnt/ipldata...\n"
     ]
    }
   ],
   "source": [
    "adls_path = \"abfss://ipldata@iplsandbox.dfs.core.windows.net/\"\n",
    "mount_point = \"/mnt/ipldata\"\n",
    "configs = {\n",
    "    \"fs.azure.account.auth.type\": \"OAuth\",\n",
    "    \"fs.azure.account.oauth.provider.type\": \"org.apache.hadoop.fs.azurebfs.oauth2.ClientCredsTokenProvider\",\n",
    "    \"fs.azure.account.oauth2.client.id\": f\"{client_id}\",\n",
    "    \"fs.azure.account.oauth2.client.secret\": f\"{client_secret_key}\",\n",
    "    \"fs.azure.account.oauth2.client.endpoint\": f\"https://login.microsoftonline.com/{tenant_id}/oauth2/token\"\n",
    "    }\n",
    "try: \n",
    "    dbutils.fs.ls(mount_point)\n",
    "    print(f\"{adls_path} already mounted to {mount_point}...\")\n",
    "except Exception:\n",
    "    dbutils.fs.mount(source=adls_path,mount_point=mount_point,extra_configs=configs)"
   ]
  },
  {
   "cell_type": "code",
   "execution_count": 0,
   "metadata": {
    "application/vnd.databricks.v1+cell": {
     "cellMetadata": {
      "byteLimit": 2048000,
      "rowLimit": 10000
     },
     "inputWidgets": {},
     "nuid": "a6edccff-a01e-496d-9cd6-e67ab55d9e13",
     "showTitle": false,
     "tableResultSettingsMap": {},
     "title": ""
    }
   },
   "outputs": [
    {
     "output_type": "display_data",
     "data": {
      "text/html": [
       "<style scoped>\n",
       "  .table-result-container {\n",
       "    max-height: 300px;\n",
       "    overflow: auto;\n",
       "  }\n",
       "  table, th, td {\n",
       "    border: 1px solid black;\n",
       "    border-collapse: collapse;\n",
       "  }\n",
       "  th, td {\n",
       "    padding: 5px;\n",
       "  }\n",
       "  th {\n",
       "    text-align: left;\n",
       "  }\n",
       "</style><div class='table-result-container'><table class='table-result'><thead style='background-color: white'><tr><th>path</th><th>name</th><th>size</th><th>modificationTime</th></tr></thead><tbody><tr><td>dbfs:/mnt/ipldata/bronze/</td><td>bronze/</td><td>0</td><td>1731618076000</td></tr><tr><td>dbfs:/mnt/ipldata/gold/</td><td>gold/</td><td>0</td><td>1731618089000</td></tr><tr><td>dbfs:/mnt/ipldata/silver/</td><td>silver/</td><td>0</td><td>1731618083000</td></tr></tbody></table></div>"
      ]
     },
     "metadata": {
      "application/vnd.databricks.v1+output": {
       "addedWidgets": {},
       "aggData": [],
       "aggError": "",
       "aggOverflow": false,
       "aggSchema": [],
       "aggSeriesLimitReached": false,
       "aggType": "",
       "arguments": {},
       "columnCustomDisplayInfos": {},
       "data": [
        [
         "dbfs:/mnt/ipldata/bronze/",
         "bronze/",
         0,
         1731618076000
        ],
        [
         "dbfs:/mnt/ipldata/gold/",
         "gold/",
         0,
         1731618089000
        ],
        [
         "dbfs:/mnt/ipldata/silver/",
         "silver/",
         0,
         1731618083000
        ]
       ],
       "datasetInfos": [],
       "dbfsResultPath": null,
       "isJsonSchema": true,
       "metadata": {
        "isDbfsCommandResult": false
       },
       "overflow": false,
       "plotOptions": {
        "customPlotOptions": {},
        "displayType": "table",
        "pivotAggregation": null,
        "pivotColumns": null,
        "xColumns": null,
        "yColumns": null
       },
       "removedWidgets": [],
       "schema": [
        {
         "metadata": "{}",
         "name": "path",
         "type": "\"string\""
        },
        {
         "metadata": "{}",
         "name": "name",
         "type": "\"string\""
        },
        {
         "metadata": "{}",
         "name": "size",
         "type": "\"long\""
        },
        {
         "metadata": "{}",
         "name": "modificationTime",
         "type": "\"long\""
        }
       ],
       "type": "table"
      }
     },
     "output_type": "display_data"
    }
   ],
   "source": [
    "%fs \n",
    "ls  \"/mnt/ipldata\""
   ]
  },
  {
   "cell_type": "code",
   "execution_count": 0,
   "metadata": {
    "application/vnd.databricks.v1+cell": {
     "cellMetadata": {
      "byteLimit": 2048000,
      "rowLimit": 10000
     },
     "inputWidgets": {},
     "nuid": "db47a9d8-7ede-4aed-af89-747479140326",
     "showTitle": false,
     "tableResultSettingsMap": {},
     "title": ""
    }
   },
   "outputs": [],
   "source": [
    "from pyspark.sql import SparkSession\n",
    "from pyspark.sql.types import StructType, StructField, IntegerType, StringType, DateType,DecimalType\n",
    "import json\n",
    "\n",
    "\n",
    "# Initialize SparkSession\n",
    "spark = SparkSession.builder.appName(\"IPL_Orange_Cap_Stats\").getOrCreate()\n",
    "\n",
    "\n",
    "#schema's\n",
    "raw_ball_by_ball_stats_schema = StructType([\n",
    "    StructField(\"Match_id\", IntegerType(), False),\n",
    "    StructField(\"Over_id\", IntegerType(), False),\n",
    "    StructField(\"Ball_id\", IntegerType(), False),\n",
    "    StructField(\"Innings_No\", IntegerType(), False),\n",
    "    StructField(\"Team_Batting\", IntegerType(), True),\n",
    "    StructField(\"Team_Bowling\", IntegerType(), True),\n",
    "    StructField(\"Striker_Batting_Position\", IntegerType(), True),\n",
    "    StructField(\"Extra_Type\", StringType(), True),\n",
    "    StructField(\"Runs_Scored\", IntegerType(), True),\n",
    "    StructField(\"Extra_runs\", IntegerType(), True),\n",
    "    StructField(\"Wides\", IntegerType(), True),\n",
    "    StructField(\"Legbyes\", IntegerType(), True),\n",
    "    StructField(\"Byes\", IntegerType(), True),\n",
    "    StructField(\"Noballs\", IntegerType(), True),\n",
    "    StructField(\"Penalty\", IntegerType(), True),\n",
    "    StructField(\"Bowler_Extras\", IntegerType(), True),\n",
    "    StructField(\"Out_type\", StringType(), True),\n",
    "    StructField(\"Caught\", IntegerType(), True),\n",
    "    StructField(\"Bowled\", IntegerType(), True),\n",
    "    StructField(\"Run_out\", IntegerType(), True),\n",
    "    StructField(\"LBW\", IntegerType(), True),\n",
    "    StructField(\"Retired_hurt\", IntegerType(), True),\n",
    "    StructField(\"Stumped\", IntegerType(), True),\n",
    "    StructField(\"caught_and_bowled\", IntegerType(), True),\n",
    "    StructField(\"hit_wicket\", IntegerType(), True),\n",
    "    StructField(\"ObstructingFeild\", IntegerType(), True),\n",
    "    StructField(\"Bowler_Wicket\", IntegerType(), True),\n",
    "    StructField(\"Match_Date\", DateType(), True),\n",
    "    StructField(\"Season\", IntegerType(), False),\n",
    "    StructField(\"Striker\", IntegerType(), True),\n",
    "    StructField(\"Non_Striker\", IntegerType(), True),\n",
    "    StructField(\"Bowler\", IntegerType(), True),\n",
    "    StructField(\"Player_Out\", IntegerType(), True),\n",
    "    StructField(\"Fielders\", IntegerType(), True),\n",
    "    StructField(\"Striker_match_SK\", IntegerType(), True),\n",
    "    StructField(\"StrikerSK\", IntegerType(), True),\n",
    "    StructField(\"NonStriker_match_SK\", IntegerType(), True),\n",
    "    StructField(\"NONStriker_SK\", IntegerType(), True),\n",
    "    StructField(\"Fielder_match_SK\", IntegerType(), True),\n",
    "    StructField(\"Fielder_SK\", IntegerType(), True),\n",
    "    StructField(\"Bowler_match_SK\", IntegerType(), True),\n",
    "    StructField(\"BOWLER_SK\", IntegerType(), True),\n",
    "    StructField(\"PlayerOut_match_SK\", IntegerType(), True),\n",
    "    StructField(\"BattingTeam_SK\", IntegerType(), True),\n",
    "    StructField(\"BowlingTeam_SK\", IntegerType(), True),\n",
    "    StructField(\"Keeper_Catch\", IntegerType(), True),\n",
    "    StructField(\"Player_out_sk\", IntegerType(), True),\n",
    "    StructField(\"MatchDateSK\", IntegerType(), True)  # Changed type from DATA to IntegerType\n",
    "])\n",
    "\n",
    "raw_player_match_schema= StructType([\n",
    "    StructField(\"Player_match_SK\", IntegerType(), False),\n",
    "    StructField(\"PlayerMatch_key\", DecimalType(20, 0), False),  # DECIMAL(20)\n",
    "    StructField(\"Match_Id\", IntegerType(), False),\n",
    "    StructField(\"Player_Id\", IntegerType(), False),\n",
    "    StructField(\"Player_Name\", StringType(), True),  # VARCHAR(255)\n",
    "    StructField(\"DOB\", DateType(), True),  # DATE\n",
    "    StructField(\"Batting_hand\", StringType(), True),  # VARCHAR(50)\n",
    "    StructField(\"Bowling_skill\", StringType(), True),  # VARCHAR(50)\n",
    "    StructField(\"Country_Name\", StringType(), True),  # VARCHAR(100)\n",
    "    StructField(\"Role_Desc\", StringType(), True),  # VARCHAR(100)\n",
    "    StructField(\"Player_team\", StringType(), True),  # VARCHAR(100)\n",
    "    StructField(\"Opposit_Team\", StringType(), True),  # VARCHAR(100)\n",
    "    StructField(\"Season_year\", IntegerType(), False),\n",
    "    StructField(\"is_manofThematch\", IntegerType(), True),\n",
    "    StructField(\"Age_As_on_match\", IntegerType(), True),\n",
    "    StructField(\"IsPlayers_Team_won\", IntegerType(), True),\n",
    "    StructField(\"Batting_Status\", StringType(), True),  # VARCHAR(50)\n",
    "    StructField(\"Bowling_Status\", StringType(), True),  # VARCHAR(50)\n",
    "    StructField(\"Player_Captain\", StringType(), True),  # VARCHAR(50)\n",
    "    StructField(\"Opposit_captain\", StringType(), True),  # VARCHAR(50)\n",
    "    StructField(\"Player_keeper\", StringType(), True),  # VARCHAR(50)\n",
    "    StructField(\"Opposit_keeper\", StringType(), True)  # VARCHAR(50)\n",
    "])\n",
    "\n",
    "raw_players_data_schema = StructType([\n",
    "    StructField(\"PLAYER_SK\", IntegerType(), nullable=False),\n",
    "    StructField(\"Player_Id\", IntegerType(), nullable=False),\n",
    "    StructField(\"Player_Name\", StringType(), nullable=True),\n",
    "    StructField(\"DOB\", DateType(), nullable=True),\n",
    "    StructField(\"Batting_hand\", StringType(), nullable=True),\n",
    "    StructField(\"Bowling_skill\", StringType(), nullable=True),\n",
    "    StructField(\"Country_Name\", StringType(), nullable=True)\n",
    "])\n",
    "\n",
    "\n",
    "raw_matches_schema = StructType([\n",
    "    StructField(\"Match_SK\", IntegerType(), nullable=False),\n",
    "    StructField(\"match_id\", IntegerType(), nullable=False),\n",
    "    StructField(\"Team1\", StringType(), nullable=True),\n",
    "    StructField(\"Team2\", StringType(), nullable=True),\n",
    "    StructField(\"match_date\", StringType(), nullable=True),\n",
    "    StructField(\"Season_Year\", IntegerType(), nullable=False),\n",
    "    StructField(\"Venue_Name\", StringType(), nullable=True),\n",
    "    StructField(\"City_Name\", StringType(), nullable=True),\n",
    "    StructField(\"Country_Name\", StringType(), nullable=True),\n",
    "    StructField(\"Toss_Winner\", StringType(), nullable=True),\n",
    "    StructField(\"match_winner\", StringType(), nullable=True),\n",
    "    StructField(\"Toss_Name\", StringType(), nullable=True),\n",
    "    StructField(\"Win_Type\", StringType(), nullable=True),\n",
    "    StructField(\"Outcome_Type\", StringType(), nullable=True),\n",
    "    StructField(\"ManOfMatch\", StringType(), nullable=True),\n",
    "    StructField(\"Win_Margin\", IntegerType(), nullable=True),\n",
    "    StructField(\"Country_id\", IntegerType(), nullable=True)\n",
    "])\n",
    "\n",
    "raw_teams_schema = StructType([\n",
    "    StructField(\"team_sk\", IntegerType(), nullable=False),\n",
    "    StructField(\"team_id\", IntegerType(), nullable=False),\n",
    "    StructField(\"team_name\", StringType(), nullable=True)])\n",
    "\n"
   ]
  },
  {
   "cell_type": "code",
   "execution_count": 0,
   "metadata": {
    "application/vnd.databricks.v1+cell": {
     "cellMetadata": {
      "byteLimit": 2048000,
      "implicitDf": true,
      "rowLimit": 10000
     },
     "inputWidgets": {},
     "nuid": "04a40fca-3851-4079-9f55-29fd43f58354",
     "showTitle": false,
     "tableResultSettingsMap": {},
     "title": ""
    }
   },
   "outputs": [
    {
     "output_type": "display_data",
     "data": {
      "text/html": [
       "<style scoped>\n",
       "  .table-result-container {\n",
       "    max-height: 300px;\n",
       "    overflow: auto;\n",
       "  }\n",
       "  table, th, td {\n",
       "    border: 1px solid black;\n",
       "    border-collapse: collapse;\n",
       "  }\n",
       "  th, td {\n",
       "    padding: 5px;\n",
       "  }\n",
       "  th {\n",
       "    text-align: left;\n",
       "  }\n",
       "</style><div class='table-result-container'><table class='table-result'><thead style='background-color: white'><tr></tr></thead><tbody></tbody></table></div>"
      ]
     },
     "metadata": {
      "application/vnd.databricks.v1+output": {
       "addedWidgets": {},
       "aggData": [],
       "aggError": "",
       "aggOverflow": false,
       "aggSchema": [],
       "aggSeriesLimitReached": false,
       "aggType": "",
       "arguments": {},
       "columnCustomDisplayInfos": {},
       "data": [],
       "datasetInfos": [],
       "dbfsResultPath": null,
       "isJsonSchema": true,
       "metadata": {},
       "overflow": false,
       "plotOptions": {
        "customPlotOptions": {},
        "displayType": "table",
        "pivotAggregation": null,
        "pivotColumns": null,
        "xColumns": null,
        "yColumns": null
       },
       "removedWidgets": [],
       "schema": [],
       "type": "table"
      }
     },
     "output_type": "display_data"
    }
   ],
   "source": [
    "%sql\n",
    "drop table if exists ipl_data.ball_by_ball_stats"
   ]
  },
  {
   "cell_type": "code",
   "execution_count": 0,
   "metadata": {
    "application/vnd.databricks.v1+cell": {
     "cellMetadata": {
      "byteLimit": 2048000,
      "rowLimit": 10000
     },
     "inputWidgets": {},
     "nuid": "5df04c5b-0cf9-4b17-93c5-601f90fbcd16",
     "showTitle": false,
     "tableResultSettingsMap": {},
     "title": ""
    }
   },
   "outputs": [],
   "source": [
    "# Path to the CSV file's\n",
    "dbfs_raw_file_path = dbutils.widgets.get(\"dbfs_raw_file_path\")\n",
    "dbfs_silver_path=dbutils.widgets.get(\"dbfs_silver_path\")\n",
    "from pyspark.sql.functions import split, col, expr, concat_ws, when,date_format,to_date\n",
    "# Read the CSV file's into a DataFrame\n",
    "\n",
    "\n",
    "#Enforce schema on when reading raw files from bronze layer\n",
    "\n",
    "raw_ball_by_ball_stats_df = spark.read.csv(\n",
    "    dbfs_raw_file_path +'Ball_By_Ball.csv', \n",
    "    header=True, \n",
    "    schema=raw_ball_by_ball_stats_schema,\n",
    "    mode=\"FAILFAST\")\n",
    "\n",
    "raw_player_match_df = spark.read.csv(\n",
    "    dbfs_raw_file_path +'Player_match.csv',\n",
    "     header=True, \n",
    "     schema=raw_player_match_schema,\n",
    "     mode=\"FAILFAST\")\n",
    "\n",
    "raw_players_data_df= spark.read.csv(\n",
    "    dbfs_raw_file_path +'Player.csv', \n",
    "    header=True, \n",
    "    schema=raw_players_data_schema,\n",
    "    mode=\"FAILFAST\")\n",
    "\n",
    "raw_matches_df= spark.read.csv(\n",
    "    dbfs_raw_file_path +'Match.csv', \n",
    "    header=True, \n",
    "    schema=raw_matches_schema,\n",
    "    mode=\"FAILFAST\")\n",
    "\n",
    "raw_teams_df= spark.read.csv(\n",
    "    dbfs_raw_file_path +'Teams.csv', \n",
    "    header=True, \n",
    "    schema=raw_teams_schema,\n",
    "    mode=\"FAILFAST\")\n",
    "\n",
    "## Apply minor transformations like Add new fileds, standardizing column values, select necessary fields  \n",
    "\n",
    "\n",
    "ball_by_ball_stats_df=raw_ball_by_ball_stats_df.select(\"season\", \n",
    "    \"match_id\", \n",
    "    \"innings_no\", \n",
    "    \"over_id\", \n",
    "    \"ball_id\", \n",
    "    \"match_date\", \n",
    "    \"team_batting\", \n",
    "    \"team_bowling\", \n",
    "    \"striker_batting_position\", \n",
    "    \"extra_type\", \n",
    "    \"runs_scored\", \n",
    "    \"extra_runs\", \n",
    "    \"wides\", \n",
    "    \"legbyes\", \n",
    "    \"byes\", \n",
    "    \"noballs\", \n",
    "    \"penalty\", \n",
    "    \"bowler_extras\", \n",
    "    \"out_type\", \n",
    "    \"caught\", \n",
    "    \"bowled\", \n",
    "    \"run_out\", \n",
    "    \"lbw\", \n",
    "    \"retired_hurt\", \n",
    "    \"stumped\", \n",
    "    \"caught_and_bowled\", \n",
    "    \"hit_wicket\", \n",
    "    \"obstructingfeild\", \n",
    "    \"bowler_wicket\", \n",
    "    \"striker\", \n",
    "    \"non_striker\", \n",
    "    \"bowler\", \n",
    "    \"player_out\", \n",
    "    \"fielders\", \n",
    "    \"keeper_catch\").withColumn(\"extra_type\",\n",
    "     when(col(\"extra_type\") == \"byes\", \"Byes\")\n",
    "    .when(col(\"extra_type\") == \"legbyes\", \"Legbyes\")\n",
    "    .when(col(\"extra_type\") == \"noballs\", \"Noballs\")\n",
    "    .otherwise(col(\"extra_type\")))\n",
    "\n",
    "\n",
    "\n",
    "teams_df=raw_teams_df.select(\"team_id\", \"team_name\").withColumn(\"team_name_abbrivation\",\n",
    "                             expr(\"concat_ws('', transform(split(team_name, ' '),x->substring(x,1,1)))\"))\n",
    "\n",
    "player_match_df=raw_player_match_df.select(\"match_id\", \n",
    "    \"season_year\",                                       \n",
    "    \"player_id\", \n",
    "    \"player_name\", \n",
    "    \"dob\", \n",
    "    \"batting_hand\", \n",
    "    \"bowling_skill\", \n",
    "    \"country_name\", \n",
    "    \"role_desc\", \n",
    "    \"player_team\", \n",
    "    \"opposit_team\", \n",
    "    \"is_manofthematch\", \n",
    "    \"age_as_on_match\", \n",
    "    \"isplayers_team_won\", \n",
    "    \"batting_status\", \n",
    "    \"bowling_status\", \n",
    "    \"player_captain\", \n",
    "    \"opposit_captain\", \n",
    "    \"player_keeper\", \n",
    "    \"opposit_keeper\").withColumn(\"player_team_abbrivation\",\n",
    "                     expr(\"concat_ws('', transform(split(player_team, ' '),x->substring(x,1,1)))\"))\\\n",
    "                    .withColumn(\"Opposit_Team_abbrivation\",expr(\"concat_ws('', transform(split(Opposit_Team, ' '),x->substring(x,1,1)))\"))\n",
    "\n",
    "#convert match_date to date type in match_df \n",
    "\n",
    "matches_df = raw_matches_df.select(\"match_id\",\n",
    "    \"season_year\", \n",
    "    \"team1\", \n",
    "    \"team2\", \n",
    "    \"match_date\", \n",
    "    \"venue_name\", \n",
    "    \"city_name\", \n",
    "    \"country_name\", \n",
    "    \"toss_winner\", \n",
    "    \"match_winner\", \n",
    "    \"toss_name\", \n",
    "    \"win_type\", \n",
    "    \"outcome_type\", \n",
    "    \"manofmatch\", \n",
    "    \"win_margin\", \n",
    "    \"country_id\").withColumn(\"match_date\", date_format(to_date(\"match_date\", \"M/d/yy\"), \"yyyy-MM-dd\"))\n",
    "\n",
    "players_data_df=raw_players_data_df.select(\"player_id\", \n",
    "    \"player_name\", \n",
    "    \"dob\", \n",
    "    \"batting_hand\", \n",
    "    \"bowling_skill\", \n",
    "    \"country_name\")\n",
    "\n",
    "\n",
    "# Write to silver layer as delta tables.\n",
    "\n",
    "#helper function to write to silver layer\n",
    "def write_to_silver_layer(df, table_name,partition_column=None):\n",
    "    if partition_column:\n",
    "        df.write.partitionBy(partition_column).format(\"delta\").mode(\"overwrite\").save(dbfs_silver_path + table_name)\n",
    "    else:\n",
    "        df.write.format(\"delta\").mode(\"overwrite\").save(dbfs_silver_path + table_name)\n",
    "\n",
    "\n",
    "write_to_silver_layer(ball_by_ball_stats_df, \"ball_by_ball_stats\", \"season\")\n",
    "write_to_silver_layer(player_match_df, \"player_match\", \"season_year\")\n",
    "write_to_silver_layer(players_data_df, \"players_data\")\n",
    "write_to_silver_layer(matches_df, \"matches\")\n",
    "write_to_silver_layer(teams_df, \"teams\")"
   ]
  },
  {
   "cell_type": "code",
   "execution_count": 0,
   "metadata": {
    "application/vnd.databricks.v1+cell": {
     "cellMetadata": {
      "byteLimit": 2048000,
      "implicitDf": true,
      "rowLimit": 10000
     },
     "inputWidgets": {},
     "nuid": "1b0d912c-5d97-476d-a0c9-902ecbca29d0",
     "showTitle": false,
     "tableResultSettingsMap": {},
     "title": ""
    }
   },
   "outputs": [
    {
     "output_type": "display_data",
     "data": {
      "text/html": [
       "<style scoped>\n",
       "  .table-result-container {\n",
       "    max-height: 300px;\n",
       "    overflow: auto;\n",
       "  }\n",
       "  table, th, td {\n",
       "    border: 1px solid black;\n",
       "    border-collapse: collapse;\n",
       "  }\n",
       "  th, td {\n",
       "    padding: 5px;\n",
       "  }\n",
       "  th {\n",
       "    text-align: left;\n",
       "  }\n",
       "</style><div class='table-result-container'><table class='table-result'><thead style='background-color: white'><tr></tr></thead><tbody></tbody></table></div>"
      ]
     },
     "metadata": {
      "application/vnd.databricks.v1+output": {
       "addedWidgets": {},
       "aggData": [],
       "aggError": "",
       "aggOverflow": false,
       "aggSchema": [],
       "aggSeriesLimitReached": false,
       "aggType": "",
       "arguments": {},
       "columnCustomDisplayInfos": {},
       "data": [],
       "datasetInfos": [],
       "dbfsResultPath": null,
       "isJsonSchema": true,
       "metadata": {},
       "overflow": false,
       "plotOptions": {
        "customPlotOptions": {},
        "displayType": "table",
        "pivotAggregation": null,
        "pivotColumns": null,
        "xColumns": null,
        "yColumns": null
       },
       "removedWidgets": [],
       "schema": [],
       "type": "table"
      }
     },
     "output_type": "display_data"
    }
   ],
   "source": [
    "%sql\n",
    "drop database if exists ipl_data CASCADE;\n",
    "CREATE DATABASE IF NOT EXISTS ipl_data;"
   ]
  },
  {
   "cell_type": "code",
   "execution_count": 0,
   "metadata": {
    "application/vnd.databricks.v1+cell": {
     "cellMetadata": {
      "byteLimit": 2048000,
      "implicitDf": true,
      "rowLimit": 10000
     },
     "inputWidgets": {},
     "nuid": "725e960a-1c97-4ae3-8bc3-ceb3d1080134",
     "showTitle": false,
     "tableResultSettingsMap": {},
     "title": ""
    }
   },
   "outputs": [
    {
     "output_type": "display_data",
     "data": {
      "text/html": [
       "<style scoped>\n",
       "  .table-result-container {\n",
       "    max-height: 300px;\n",
       "    overflow: auto;\n",
       "  }\n",
       "  table, th, td {\n",
       "    border: 1px solid black;\n",
       "    border-collapse: collapse;\n",
       "  }\n",
       "  th, td {\n",
       "    padding: 5px;\n",
       "  }\n",
       "  th {\n",
       "    text-align: left;\n",
       "  }\n",
       "</style><div class='table-result-container'><table class='table-result'><thead style='background-color: white'><tr></tr></thead><tbody></tbody></table></div>"
      ]
     },
     "metadata": {
      "application/vnd.databricks.v1+output": {
       "addedWidgets": {},
       "aggData": [],
       "aggError": "",
       "aggOverflow": false,
       "aggSchema": [],
       "aggSeriesLimitReached": false,
       "aggType": "",
       "arguments": {},
       "columnCustomDisplayInfos": {},
       "data": [],
       "datasetInfos": [],
       "dbfsResultPath": null,
       "isJsonSchema": true,
       "metadata": {},
       "overflow": false,
       "plotOptions": {
        "customPlotOptions": {},
        "displayType": "table",
        "pivotAggregation": null,
        "pivotColumns": null,
        "xColumns": null,
        "yColumns": null
       },
       "removedWidgets": [],
       "schema": [],
       "type": "table"
      }
     },
     "output_type": "display_data"
    }
   ],
   "source": [
    "%sql\n",
    "CREATE EXTERNAL LOCATION IF NOT EXISTS my_external_location\n",
    "URL 'abfss://ipldata@iplsandbox.dfs.core.windows.net/silver/'\n",
    "WITH (STORAGE CREDENTIAL adls_data_access);\n"
   ]
  },
  {
   "cell_type": "markdown",
   "metadata": {
    "application/vnd.databricks.v1+cell": {
     "cellMetadata": {},
     "inputWidgets": {},
     "nuid": "561133a7-521b-4c63-acee-79cfc1897174",
     "showTitle": false,
     "tableResultSettingsMap": {},
     "title": ""
    }
   },
   "source": [
    "Create External tables in Azure Databricks using the external location"
   ]
  },
  {
   "cell_type": "code",
   "execution_count": 0,
   "metadata": {
    "application/vnd.databricks.v1+cell": {
     "cellMetadata": {
      "byteLimit": 2048000,
      "implicitDf": true,
      "rowLimit": 10000
     },
     "inputWidgets": {},
     "nuid": "336c0491-3428-4f85-9b32-2140b7f9f6d4",
     "showTitle": false,
     "tableResultSettingsMap": {},
     "title": ""
    }
   },
   "outputs": [
    {
     "output_type": "display_data",
     "data": {
      "text/html": [
       "<style scoped>\n",
       "  .table-result-container {\n",
       "    max-height: 300px;\n",
       "    overflow: auto;\n",
       "  }\n",
       "  table, th, td {\n",
       "    border: 1px solid black;\n",
       "    border-collapse: collapse;\n",
       "  }\n",
       "  th, td {\n",
       "    padding: 5px;\n",
       "  }\n",
       "  th {\n",
       "    text-align: left;\n",
       "  }\n",
       "</style><div class='table-result-container'><table class='table-result'><thead style='background-color: white'><tr></tr></thead><tbody></tbody></table></div>"
      ]
     },
     "metadata": {
      "application/vnd.databricks.v1+output": {
       "addedWidgets": {},
       "aggData": [],
       "aggError": "",
       "aggOverflow": false,
       "aggSchema": [],
       "aggSeriesLimitReached": false,
       "aggType": "",
       "arguments": {},
       "columnCustomDisplayInfos": {},
       "data": [],
       "datasetInfos": [],
       "dbfsResultPath": null,
       "isJsonSchema": true,
       "metadata": {},
       "overflow": false,
       "plotOptions": {
        "customPlotOptions": {},
        "displayType": "table",
        "pivotAggregation": null,
        "pivotColumns": null,
        "xColumns": null,
        "yColumns": null
       },
       "removedWidgets": [],
       "schema": [],
       "type": "table"
      }
     },
     "output_type": "display_data"
    }
   ],
   "source": [
    "%sql\n",
    "---Register the table in the metastore\n",
    "CREATE EXTERNAL TABLE IF NOT EXISTS ipl_data.teams\n",
    "USING DELTA\n",
    "LOCATION 'abfss://ipldata@iplsandbox.dfs.core.windows.net/silver/teams';\n",
    "\n",
    "CREATE TABLE IF NOT EXISTS ipl_data.matches\n",
    "USING DELTA\n",
    "LOCATION 'abfss://ipldata@iplsandbox.dfs.core.windows.net/silver/matches';\n",
    "\n",
    "CREATE TABLE IF NOT EXISTS ipl_data.ball_by_ball_stats\n",
    "USING DELTA\n",
    "LOCATION 'abfss://ipldata@iplsandbox.dfs.core.windows.net/silver/ball_by_ball_stats';\n",
    "\n",
    "CREATE TABLE IF NOT EXISTS ipl_data.player_match\n",
    "USING DELTA\n",
    "LOCATION 'abfss://ipldata@iplsandbox.dfs.core.windows.net/silver/player_match';\n",
    "\n",
    "CREATE TABLE IF NOT EXISTS ipl_data.players_data\n",
    "USING DELTA\n",
    "LOCATION 'abfss://ipldata@iplsandbox.dfs.core.windows.net/silver/players_data';"
   ]
  },
  {
   "cell_type": "markdown",
   "metadata": {
    "application/vnd.databricks.v1+cell": {
     "cellMetadata": {},
     "inputWidgets": {},
     "nuid": "92d8010b-5cde-422a-acc5-1f0f8d012010",
     "showTitle": false,
     "tableResultSettingsMap": {},
     "title": ""
    }
   },
   "source": [
    "Get File table counts"
   ]
  },
  {
   "cell_type": "code",
   "execution_count": 0,
   "metadata": {
    "application/vnd.databricks.v1+cell": {
     "cellMetadata": {
      "byteLimit": 2048000,
      "implicitDf": true,
      "rowLimit": 10000
     },
     "inputWidgets": {},
     "nuid": "a487209b-1494-46a6-9059-ef49047447db",
     "showTitle": false,
     "tableResultSettingsMap": {},
     "title": ""
    }
   },
   "outputs": [
    {
     "output_type": "display_data",
     "data": {
      "text/html": [
       "<style scoped>\n",
       "  .table-result-container {\n",
       "    max-height: 300px;\n",
       "    overflow: auto;\n",
       "  }\n",
       "  table, th, td {\n",
       "    border: 1px solid black;\n",
       "    border-collapse: collapse;\n",
       "  }\n",
       "  th, td {\n",
       "    padding: 5px;\n",
       "  }\n",
       "  th {\n",
       "    text-align: left;\n",
       "  }\n",
       "</style><div class='table-result-container'><table class='table-result'><thead style='background-color: white'><tr></tr></thead><tbody></tbody></table></div>"
      ]
     },
     "metadata": {
      "application/vnd.databricks.v1+output": {
       "addedWidgets": {},
       "aggData": [],
       "aggError": "",
       "aggOverflow": false,
       "aggSchema": [],
       "aggSeriesLimitReached": false,
       "aggType": "",
       "arguments": {},
       "columnCustomDisplayInfos": {},
       "data": [],
       "datasetInfos": [],
       "dbfsResultPath": null,
       "isJsonSchema": true,
       "metadata": {},
       "overflow": false,
       "plotOptions": {
        "customPlotOptions": {},
        "displayType": "table",
        "pivotAggregation": null,
        "pivotColumns": null,
        "xColumns": null,
        "yColumns": null
       },
       "removedWidgets": [],
       "schema": [],
       "type": "table"
      }
     },
     "output_type": "display_data"
    }
   ],
   "source": [
    "%sql\n",
    "drop table if exists ipl_data.table_load_count"
   ]
  },
  {
   "cell_type": "code",
   "execution_count": 0,
   "metadata": {
    "application/vnd.databricks.v1+cell": {
     "cellMetadata": {
      "byteLimit": 2048000,
      "implicitDf": true,
      "rowLimit": 10000
     },
     "inputWidgets": {},
     "nuid": "99464b56-2ddf-4c10-8d0e-27e85f070f5b",
     "showTitle": false,
     "tableResultSettingsMap": {},
     "title": ""
    }
   },
   "outputs": [
    {
     "output_type": "stream",
     "name": "stdout",
     "output_type": "stream",
     "text": [
      "Out[37]: DataFrame[]"
     ]
    }
   ],
   "source": [
    "spark.conf.set(\"spark.sql.legacy.allowNonEmptyLocationInCTAS\", \"true\")\n",
    "\n",
    "\n",
    "\n",
    "query = f\"\"\"\n",
    "CREATE external TABLE ipl_data.table_load_count\n",
    "USING parquet\n",
    "LOCATION 'abfss://ipldata@iplsandbox.dfs.core.windows.net/silver/table_load_count'\n",
    "AS\n",
    "SELECT 'ball_by_ball_stats' AS table_name, COUNT(*) AS record_count FROM ipl_data.ball_by_ball_stats\n",
    "UNION \n",
    "SELECT 'matches' AS table_name, COUNT(*) AS record_count FROM ipl_data.matches\n",
    "UNION \n",
    "SELECT 'player_match' AS table_name, COUNT(*) AS record_count FROM ipl_data.player_match\n",
    "UNION \n",
    "SELECT 'players_data' AS table_name, COUNT(*) AS record_count FROM ipl_data.players_data\n",
    "UNION\n",
    "SELECT 'teams' AS table_name, COUNT(*) AS record_count FROM ipl_data.teams;\n",
    "\"\"\"\n",
    "\n",
    "\n",
    "spark.sql(query)\n"
   ]
  },
  {
   "cell_type": "code",
   "execution_count": 0,
   "metadata": {
    "application/vnd.databricks.v1+cell": {
     "cellMetadata": {
      "byteLimit": 2048000,
      "implicitDf": true,
      "rowLimit": 10000
     },
     "inputWidgets": {},
     "nuid": "34c43535-742f-4691-827c-0ea45806e56e",
     "showTitle": false,
     "tableResultSettingsMap": {},
     "title": ""
    }
   },
   "outputs": [
    {
     "output_type": "display_data",
     "data": {
      "text/html": [
       "<style scoped>\n",
       "  .table-result-container {\n",
       "    max-height: 300px;\n",
       "    overflow: auto;\n",
       "  }\n",
       "  table, th, td {\n",
       "    border: 1px solid black;\n",
       "    border-collapse: collapse;\n",
       "  }\n",
       "  th, td {\n",
       "    padding: 5px;\n",
       "  }\n",
       "  th {\n",
       "    text-align: left;\n",
       "  }\n",
       "</style><div class='table-result-container'><table class='table-result'><thead style='background-color: white'><tr><th>database</th><th>tableName</th><th>isTemporary</th></tr></thead><tbody><tr><td>ipl_data</td><td>ball_by_ball_stats</td><td>false</td></tr><tr><td>ipl_data</td><td>matches</td><td>false</td></tr><tr><td>ipl_data</td><td>player_match</td><td>false</td></tr><tr><td>ipl_data</td><td>players_data</td><td>false</td></tr><tr><td>ipl_data</td><td>table_load_count</td><td>false</td></tr><tr><td>ipl_data</td><td>teams</td><td>false</td></tr></tbody></table></div>"
      ]
     },
     "metadata": {
      "application/vnd.databricks.v1+output": {
       "addedWidgets": {},
       "aggData": [],
       "aggError": "",
       "aggOverflow": false,
       "aggSchema": [],
       "aggSeriesLimitReached": false,
       "aggType": "",
       "arguments": {},
       "columnCustomDisplayInfos": {},
       "data": [
        [
         "ipl_data",
         "ball_by_ball_stats",
         false
        ],
        [
         "ipl_data",
         "matches",
         false
        ],
        [
         "ipl_data",
         "player_match",
         false
        ],
        [
         "ipl_data",
         "players_data",
         false
        ],
        [
         "ipl_data",
         "table_load_count",
         false
        ],
        [
         "ipl_data",
         "teams",
         false
        ]
       ],
       "datasetInfos": [],
       "dbfsResultPath": null,
       "isJsonSchema": true,
       "metadata": {},
       "overflow": false,
       "plotOptions": {
        "customPlotOptions": {},
        "displayType": "table",
        "pivotAggregation": null,
        "pivotColumns": null,
        "xColumns": null,
        "yColumns": null
       },
       "removedWidgets": [],
       "schema": [
        {
         "metadata": "{}",
         "name": "database",
         "type": "\"string\""
        },
        {
         "metadata": "{}",
         "name": "tableName",
         "type": "\"string\""
        },
        {
         "metadata": "{}",
         "name": "isTemporary",
         "type": "\"boolean\""
        }
       ],
       "type": "table"
      }
     },
     "output_type": "display_data"
    }
   ],
   "source": [
    "%sql \n",
    "SHOW TABLES IN ipl_data ;"
   ]
  }
 ],
 "metadata": {
  "application/vnd.databricks.v1+notebook": {
   "dashboards": [],
   "environmentMetadata": {
    "base_environment": "",
    "client": "1"
   },
   "language": "python",
   "notebookMetadata": {
    "mostRecentlyExecutedCommandWithImplicitDF": {
     "commandId": 1421427993228133,
     "dataframes": [
      "_sqldf"
     ]
    },
    "pythonIndentUnit": 2
   },
   "notebookName": "IPL Data Analysis brone to silver transform",
   "widgets": {
    "base_mnt_path": {
     "currentValue": "dbfs:/mnt/ipldata",
     "nuid": "dd235b49-997a-4a9c-8e8f-4963f9ccbded",
     "typedWidgetInfo": {
      "autoCreated": false,
      "defaultValue": "/mnt/ipldata",
      "label": "",
      "name": "base_mnt_path",
      "options": {
       "widgetDisplayType": "Text",
       "validationRegex": null
      },
      "parameterDataType": "String"
     },
     "widgetInfo": {
      "widgetType": "text",
      "defaultValue": "/mnt/ipldata",
      "label": "",
      "name": "base_mnt_path",
      "options": {
       "widgetType": "text",
       "autoCreated": false,
       "validationRegex": null
      }
     }
    },
    "dbfs_raw_file_path": {
     "currentValue": "dbfs:/mnt/ipldata/bronze/",
     "nuid": "668c67d0-c1d0-4e02-ab0f-e630b056d56d",
     "typedWidgetInfo": {
      "autoCreated": false,
      "defaultValue": "/mnt/ipldata/bronze",
      "label": "",
      "name": "dbfs_raw_file_path",
      "options": {
       "widgetDisplayType": "Text",
       "validationRegex": null
      },
      "parameterDataType": "String"
     },
     "widgetInfo": {
      "widgetType": "text",
      "defaultValue": "/mnt/ipldata/bronze",
      "label": "",
      "name": "dbfs_raw_file_path",
      "options": {
       "widgetType": "text",
       "autoCreated": false,
       "validationRegex": null
      }
     }
    },
    "dbfs_silver_path": {
     "currentValue": "dbfs:/mnt/ipldata/silver/",
     "nuid": "678f713b-97f2-4d3b-8866-d042538a0e21",
     "typedWidgetInfo": {
      "autoCreated": false,
      "defaultValue": "/mnt/ipldata/silver",
      "label": "",
      "name": "dbfs_silver_path",
      "options": {
       "widgetDisplayType": "Text",
       "validationRegex": null
      },
      "parameterDataType": "String"
     },
     "widgetInfo": {
      "widgetType": "text",
      "defaultValue": "/mnt/ipldata/silver",
      "label": "",
      "name": "dbfs_silver_path",
      "options": {
       "widgetType": "text",
       "autoCreated": false,
       "validationRegex": null
      }
     }
    }
   }
  },
  "language_info": {
   "name": "python"
  }
 },
 "nbformat": 4,
 "nbformat_minor": 0
}
